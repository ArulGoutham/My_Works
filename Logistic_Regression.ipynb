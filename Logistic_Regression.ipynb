{
 "cells": [
  {
   "cell_type": "markdown",
   "id": "de95dd35",
   "metadata": {},
   "source": [
    "### Question 1:\n",
    "#### For the MNIST dataset, apply the feature reduction using singular value decomposition (SVD)"
   ]
  },
  {
   "cell_type": "markdown",
   "id": "5e2b5e60",
   "metadata": {},
   "source": [
    "### Data Import\n"
   ]
  },
  {
   "cell_type": "code",
   "execution_count": 133,
   "id": "bf8b872b",
   "metadata": {},
   "outputs": [],
   "source": [
    "from keras.datasets import mnist"
   ]
  },
  {
   "cell_type": "markdown",
   "id": "64aad5b8",
   "metadata": {},
   "source": [
    "### Test train Split\n"
   ]
  },
  {
   "cell_type": "code",
   "execution_count": 134,
   "id": "ab3b8dc4",
   "metadata": {},
   "outputs": [],
   "source": [
    "(x_train1, y_train1), (x_test1, y_test1) = mnist.load_data()"
   ]
  },
  {
   "cell_type": "code",
   "execution_count": 146,
   "id": "a30ca053",
   "metadata": {},
   "outputs": [],
   "source": [
    "import numpy as np\n",
    "import pandas as pd\n",
    "import matplotlib.pyplot as plt\n",
    "from tqdm.notebook import trange,tqdm\n",
    "%matplotlib inline"
   ]
  },
  {
   "cell_type": "code",
   "execution_count": 136,
   "id": "646f5712",
   "metadata": {},
   "outputs": [
    {
     "data": {
      "text/plain": [
       "<matplotlib.image.AxesImage at 0x28baa5750b8>"
      ]
     },
     "execution_count": 136,
     "metadata": {},
     "output_type": "execute_result"
    },
    {
     "data": {
      "image/png": "[encoded data removed]",
      "text/plain": [
       "<Figure size 432x288 with 1 Axes>"
      ]
     },
     "metadata": {
      "needs_background": "light"
     },
     "output_type": "display_data"
    }
   ],
   "source": [
    "img1=plt.imshow(x_train1[0])\n",
    "img1"
   ]
  },
  {
   "cell_type": "code",
   "execution_count": 137,
   "id": "9e659b3a",
   "metadata": {},
   "outputs": [
    {
     "data": {
      "text/plain": [
       "255"
      ]
     },
     "execution_count": 137,
     "metadata": {},
     "output_type": "execute_result"
    }
   ],
   "source": [
    "x_train1[0].max()"
   ]
  },
  {
   "cell_type": "markdown",
   "id": "cab427eb",
   "metadata": {},
   "source": [
    "### Normalizing the data"
   ]
  },
  {
   "cell_type": "code",
   "execution_count": 138,
   "id": "b4863fe8",
   "metadata": {},
   "outputs": [],
   "source": [
    "x_train1=x_train1/255\n",
    "x_test1=x_test1/255"
   ]
  },
  {
   "cell_type": "code",
   "execution_count": 139,
   "id": "51fd189e",
   "metadata": {},
   "outputs": [
    {
     "data": {
      "text/plain": [
       "1.0"
      ]
     },
     "execution_count": 139,
     "metadata": {},
     "output_type": "execute_result"
    }
   ],
   "source": [
    "x_train1[0].max()"
   ]
  },
  {
   "cell_type": "markdown",
   "id": "540379e2",
   "metadata": {},
   "source": [
    "### Applying SVD to the images and reconstructing based on Number of Non Zero singular values of that corresponding images - Economic SVD"
   ]
  },
  {
   "cell_type": "code",
   "execution_count": 140,
   "id": "89ccb5cd",
   "metadata": {},
   "outputs": [],
   "source": [
    "rank = np.zeros((x_train1.shape[0],1))\n",
    "for i in range(x_train1.shape[0]):\n",
    "    u,s,v = np.linalg.svd(x_train1[i])\n",
    "    s1 = np.diag(s)\n",
    "    svalue = np.linalg.matrix_rank(s1)  #Number of Non Zero Singular value is obtained from rank of Singular matrix \n",
    "    rank[i] = svalue\n",
    "    s1 = s1[:svalue,:svalue]   \n",
    "    u1 = u[:,:svalue]\n",
    "    v1 = v[:svalue,:]\n",
    "    reduced_img=u1@s1@v1\n",
    "    x_train1[i]=reduced_img"
   ]
  },
  {
   "cell_type": "code",
   "execution_count": 141,
   "id": "2d7f5ec2",
   "metadata": {},
   "outputs": [
    {
     "data": {
      "text/plain": [
       "array([ 2.,  3.,  4.,  5.,  6.,  7.,  8.,  9., 10., 11., 12., 13., 14.,\n",
       "       15., 16., 17., 18., 19., 20.])"
      ]
     },
     "execution_count": 141,
     "metadata": {},
     "output_type": "execute_result"
    }
   ],
   "source": [
    "np.unique(rank) # Expected Optimum feature is 18 or 19 or 20"
   ]
  },
  {
   "cell_type": "code",
   "execution_count": 142,
   "id": "baee41a8",
   "metadata": {},
   "outputs": [
    {
     "data": {
      "text/plain": [
       "<matplotlib.image.AxesImage at 0x28ba99e1470>"
      ]
     },
     "execution_count": 142,
     "metadata": {},
     "output_type": "execute_result"
    },
    {
     "data": {
      "image/png": "[encoded data removed]",
      "text/plain": [
       "<Figure size 432x288 with 1 Axes>"
      ]
     },
     "metadata": {
      "needs_background": "light"
     },
     "output_type": "display_data"
    }
   ],
   "source": [
    "plt.imshow(x_train1[0])"
   ]
  },
  {
   "cell_type": "markdown",
   "id": "c560c447",
   "metadata": {},
   "source": [
    "### Applying SVD to the images and reconstructing based on first 18 singular values"
   ]
  },
  {
   "cell_type": "code",
   "execution_count": 46,
   "id": "53386658",
   "metadata": {},
   "outputs": [],
   "source": [
    "svalue = 18  # Not using the Economic version, instead going for particular singular values for all images\n",
    "for i in range(x_train1.shape[0]):\n",
    "    u,s,v = np.linalg.svd(x_train1[i])\n",
    "    s1 = np.diag(s)\n",
    "    s1 = s1[:svalue,:svalue]\n",
    "    u1 = u[:,:svalue]\n",
    "    v1 = v[:svalue,:]\n",
    "    reduced_img=u1@s1@v1\n",
    "    x_train1[i]=reduced_img # Applied SVD for each image and reconstructed based to upto 18 singular values"
   ]
  },
  {
   "cell_type": "code",
   "execution_count": 47,
   "id": "fbce9457",
   "metadata": {},
   "outputs": [
    {
     "data": {
      "text/plain": [
       "<matplotlib.image.AxesImage at 0x28b876f8e48>"
      ]
     },
     "execution_count": 47,
     "metadata": {},
     "output_type": "execute_result"
    },
    {
     "data": {
      "image/png": "[encoded data removed]",
      "text/plain": [
       "<Figure size 432x288 with 1 Axes>"
      ]
     },
     "metadata": {
      "needs_background": "light"
     },
     "output_type": "display_data"
    }
   ],
   "source": [
    "plt.imshow(x_train1[0])"
   ]
  },
  {
   "cell_type": "markdown",
   "id": "f95a8c34",
   "metadata": {},
   "source": [
    "# ---------------------------------------------------------------------------------------"
   ]
  },
  {
   "cell_type": "markdown",
   "id": "2d34bb98",
   "metadata": {},
   "source": [
    "### Question 2:\n",
    "#### Classify the dataset using logistic regression before applying the feature reduction.\n",
    "# ------------------------------------------------------------------------------------"
   ]
  },
  {
   "cell_type": "code",
   "execution_count": 49,
   "id": "82fc07d4",
   "metadata": {},
   "outputs": [],
   "source": [
    "(x_train, y_train), (x_test, y_test) = mnist.load_data()\n",
    "x_train=x_train/255\n",
    "x_test=x_test/255"
   ]
  },
  {
   "cell_type": "markdown",
   "id": "7ae79d8b",
   "metadata": {},
   "source": [
    "### Converting all image as a row vectors "
   ]
  },
  {
   "cell_type": "code",
   "execution_count": 50,
   "id": "84e81acb",
   "metadata": {},
   "outputs": [],
   "source": [
    "x_train = x_train.reshape(x_train.shape[0],-1)\n",
    "x_test = x_test.reshape(x_test.shape[0],-1)\n",
    "y_train = y_train.reshape(y_train.shape[0],1)\n",
    "y_test = y_test.reshape(y_test.shape[0],1)"
   ]
  },
  {
   "cell_type": "code",
   "execution_count": 51,
   "id": "0bac1fac",
   "metadata": {},
   "outputs": [
    {
     "data": {
      "text/plain": [
       "((60000, 784), (60000, 1))"
      ]
     },
     "execution_count": 51,
     "metadata": {},
     "output_type": "execute_result"
    }
   ],
   "source": [
    "x_train.shape, y_train.shape"
   ]
  },
  {
   "cell_type": "markdown",
   "id": "afa6bf6b",
   "metadata": {},
   "source": [
    "### Bias column added to the data"
   ]
  },
  {
   "cell_type": "code",
   "execution_count": 52,
   "id": "75a12cd4",
   "metadata": {},
   "outputs": [],
   "source": [
    "padding = np.ones((60000,1)) #training padding\n",
    "padding1 = np.ones((10000,1)) #test padding\n",
    "x_train = np.concatenate((padding,x_train),axis=1)\n",
    "x_test = np.concatenate((padding1,x_test),axis=1)"
   ]
  },
  {
   "cell_type": "code",
   "execution_count": 53,
   "id": "10e82e0f",
   "metadata": {},
   "outputs": [
    {
     "data": {
      "text/plain": [
       "((60000, 785), (10000, 785))"
      ]
     },
     "execution_count": 53,
     "metadata": {},
     "output_type": "execute_result"
    }
   ],
   "source": [
    "x_train.shape, x_test.shape"
   ]
  },
  {
   "cell_type": "markdown",
   "id": "310870b6",
   "metadata": {},
   "source": [
    "### It is a Multi Class Classification dataset. Creating target vector based on one vs all concept "
   ]
  },
  {
   "cell_type": "code",
   "execution_count": 54,
   "id": "654ffdcd",
   "metadata": {},
   "outputs": [
    {
     "data": {
      "text/plain": [
       "array([0, 1, 2, 3, 4, 5, 6, 7, 8, 9], dtype=uint8)"
      ]
     },
     "execution_count": 54,
     "metadata": {},
     "output_type": "execute_result"
    }
   ],
   "source": [
    "np.unique(y_train)"
   ]
  },
  {
   "cell_type": "code",
   "execution_count": 55,
   "id": "03ff7f42",
   "metadata": {},
   "outputs": [],
   "source": [
    "# Training data target conversion\n",
    "y_all = np.zeros([x_train.shape[0], len(np.unique(y_train))])\n",
    "y_all = pd.DataFrame(y_all)\n",
    "for i in range(0, len(np.unique(y_train))):\n",
    "    y_all.iloc[:,i] = np.where(y_train==i,1,0)"
   ]
  },
  {
   "cell_type": "code",
   "execution_count": 56,
   "id": "8112a10e",
   "metadata": {},
   "outputs": [],
   "source": [
    "# Testing data target conversion\n",
    "y_test_all = np.zeros([x_test.shape[0], len(np.unique(y_test))])\n",
    "y_test_all = pd.DataFrame(y_test_all)\n",
    "for i in range(0, len(np.unique(y_test))):\n",
    "    y_test_all.iloc[:,i] = np.where(y_test==i,1,0)"
   ]
  },
  {
   "cell_type": "markdown",
   "id": "740fe68d",
   "metadata": {},
   "source": [
    "### Converting data into pandas dataframe for easy processing\n"
   ]
  },
  {
   "cell_type": "code",
   "execution_count": 57,
   "id": "a43402f5",
   "metadata": {},
   "outputs": [],
   "source": [
    "x_train = pd.DataFrame(x_train)\n",
    "x_test = pd.DataFrame(x_test)"
   ]
  },
  {
   "cell_type": "markdown",
   "id": "346c9bf6",
   "metadata": {},
   "source": [
    "### Model Creation for Weights update"
   ]
  },
  {
   "cell_type": "code",
   "execution_count": 129,
   "id": "b5f9d9cd",
   "metadata": {},
   "outputs": [],
   "source": [
    "def Weights_update(X, y, weights, alpha, iterations):\n",
    "    m = len(X)\n",
    "    for i in trange(0,iterations):\n",
    "        for j in range(0, 10):\n",
    "            weights = pd.DataFrame(weights)\n",
    "            prediction = 1 / (1 + np.exp(-(np.dot(weights.iloc[:,j], X.T))))  #Sigmoid Function\n",
    "            for n in range(0, weights.shape[0]):\n",
    "                weights.iloc[n, j] -= (alpha/m) * np.sum((prediction-y.iloc[:, j])*X.iloc[:, n]) #1x1 B0 updation of class zero\n",
    "                #785x1 when come out of individual weights for loop\n",
    "            #785x10 when come out of class for loop                \n",
    "            weights = pd.DataFrame(weights)\n",
    "    return weights"
   ]
  },
  {
   "cell_type": "code",
   "execution_count": 59,
   "id": "cbbca769",
   "metadata": {},
   "outputs": [],
   "source": [
    "weights = np.zeros([785, 10])                              # Initially weights are assumed to be zero\n",
    "weights = Weights_update(x_train, y_all, weights, 0.3,100) # Updated Weights after 100 iterations with 0.3 Learning Rate"
   ]
  },
  {
   "cell_type": "markdown",
   "id": "2634eb36",
   "metadata": {},
   "source": [
    "### Testing the model on test data"
   ]
  },
  {
   "cell_type": "code",
   "execution_count": 98,
   "id": "84e00d4d",
   "metadata": {},
   "outputs": [],
   "source": [
    "def prediction(weights,x_test):\n",
    "    All_prediction = []\n",
    "    for i in range(0, 10):\n",
    "        weights1 = pd.DataFrame(weights)\n",
    "        prediction = 1 / (1 + np.exp(-(np.dot(weights1.iloc[:,i], x_test.T))))\n",
    "        All_prediction.append(prediction)\n",
    "    All_prediction=pd.DataFrame(All_prediction)\n",
    "    return All_prediction"
   ]
  },
  {
   "cell_type": "code",
   "execution_count": 99,
   "id": "d71e4384",
   "metadata": {},
   "outputs": [],
   "source": [
    "def accuracy(y_test_all,All_prediction,x_test):\n",
    "    accuracy = 0\n",
    "    for col in range(0, 10):\n",
    "        for row in range(len(y_test_all)):\n",
    "            if y_test_all.iloc[row, col] == 1 and All_prediction.iloc[col, row] >= 0.5:\n",
    "                accuracy += 1\n",
    "    accuracy = accuracy/len(x_test)\n",
    "    return accuracy"
   ]
  },
  {
   "cell_type": "code",
   "execution_count": 62,
   "id": "c0ac069e",
   "metadata": {},
   "outputs": [
    {
     "data": {
      "text/plain": [
       "0.7576"
      ]
     },
     "execution_count": 62,
     "metadata": {},
     "output_type": "execute_result"
    }
   ],
   "source": [
    "accuracy(y_test_all,prediction(weights,x_test),x_test)"
   ]
  },
  {
   "cell_type": "markdown",
   "id": "da4722d1",
   "metadata": {},
   "source": [
    "#### Accuracy of 0.7576 obtained at learning rate 0.3 and 100 iteration\n",
    "#### Accuracy depends on two hyper parameters: Learning Rate and Number of Iteration\n",
    "#### Less the Learning Rate and More the Number of Iterations will give more accuracy\n",
    "# ----------------------------------------------------------------------------------------"
   ]
  },
  {
   "cell_type": "markdown",
   "id": "eaaafa55",
   "metadata": {},
   "source": [
    "### Question 3:\n",
    "#### Classify the dataset using logistic regression after applying the feature reduction using SVD.\n",
    "# --------------------------------------------------------------------------------------"
   ]
  },
  {
   "cell_type": "markdown",
   "id": "04f6639c",
   "metadata": {},
   "source": [
    "#### From Question 1, the feature reduced data with respect to singular value 18 is taken for Multi Class Logistic Regression"
   ]
  },
  {
   "cell_type": "markdown",
   "id": "fd1c7f21",
   "metadata": {},
   "source": [
    "### Data Preprocessing"
   ]
  },
  {
   "cell_type": "code",
   "execution_count": 63,
   "id": "47afa311",
   "metadata": {},
   "outputs": [],
   "source": [
    "# Converting all image as a row vectors -----------------------------------------\n",
    "x_train1 = x_train1.reshape(x_train1.shape[0],-1)\n",
    "x_test1 = x_test1.reshape(x_test1.shape[0],-1)\n",
    "y_train1 = y_train1.reshape(y_train1.shape[0],1)\n",
    "y_test1 = y_test1.reshape(y_test1.shape[0],1)\n",
    "#--------------------------------------------------------------------------------\n",
    "# Bias column added to the data--------------------------------------------------\n",
    "padding = np.ones((60000,1)) #training padding\n",
    "padding1 = np.ones((10000,1)) #test padding\n",
    "x_train1 = np.concatenate((padding,x_train1),axis=1)\n",
    "x_test1 = np.concatenate((padding1,x_test1),axis=1)\n",
    "#--------------------------------------------------------------------------------\n",
    "# It is a Multi Class Classification dataset. Creating target vector based on one vs all concept \n",
    "# Training data target conversion------------------------------------------------\n",
    "y_all1 = np.zeros([x_train1.shape[0], len(np.unique(y_train1))])\n",
    "y_all1 = pd.DataFrame(y_all1)\n",
    "for i in range(0, len(np.unique(y_train1))):\n",
    "    y_all1.iloc[:,i] = np.where(y_train1==i,1,0)\n",
    "# Testing data target conversion-------------------------------------------------\n",
    "y_test_all1 = np.zeros([x_test1.shape[0], len(np.unique(y_test1))])\n",
    "y_test_all1 = pd.DataFrame(y_test_all1)\n",
    "for i in range(0, len(np.unique(y_test1))):\n",
    "    y_test_all1.iloc[:,i] = np.where(y_test1==i,1,0)\n",
    "#--------------------------------------------------------------------------------\n",
    "# Converting data into pandas dataframe for easy processing----------------------\n",
    "x_train1 = pd.DataFrame(x_train1)\n",
    "x_test1 = pd.DataFrame(x_test1)\n",
    "#--------------------------------------------------------------------------------"
   ]
  },
  {
   "cell_type": "code",
   "execution_count": 64,
   "id": "715a8453",
   "metadata": {},
   "outputs": [],
   "source": [
    "weights1 = np.zeros([785, 10])                              # Initially weights are assumed to be zero\n",
    "weights1 = Weights_update(x_train1, y_all1, weights1, 0.3,100) # Updated Weights after 100 iterations"
   ]
  },
  {
   "cell_type": "code",
   "execution_count": 65,
   "id": "8b4723b9",
   "metadata": {},
   "outputs": [
    {
     "data": {
      "text/plain": [
       "0.7576"
      ]
     },
     "execution_count": 65,
     "metadata": {},
     "output_type": "execute_result"
    }
   ],
   "source": [
    "accuracy(y_test_all1,prediction(weights1,x_test1),x_test1)"
   ]
  },
  {
   "cell_type": "markdown",
   "id": "b1dc91ed",
   "metadata": {},
   "source": [
    "#### Accuracy of 0.7576 obtained after applying SVD (Feature reduction), learning rate 0.3 and 100 iteration\n",
    "#### Accuracy depends on three hyper parameters: Number of Singular Value, Learning Rate and Number of Iteration\n",
    "#### Optimum Singular Value, Less the Learning Rate and More the Number of Iterations will give more accuracy\n",
    "# ----------------------------------------------------------------------------------------"
   ]
  },
  {
   "cell_type": "markdown",
   "id": "bd89147a",
   "metadata": {},
   "source": [
    "### Question 4:\n",
    "#### Find the optimal feature dimension based on the accuracy\n",
    "# ---------------------------------------------------------------------------------------"
   ]
  },
  {
   "cell_type": "markdown",
   "id": "32ecd692",
   "metadata": {},
   "source": [
    "#### Plotting Singular value vs Accuracy - Using Inbuilt functions. \n",
    "##### As inbuit is choosen over the scratch because, there are hyper parameters which needs to be optimized in case of scratch. And identifying these optimal hyper parameters and running the model for that will be expensive in terms of computation time. By considering these two points, I have used the Inbuilt function to find optimum singular value using accuracy."
   ]
  },
  {
   "cell_type": "code",
   "execution_count": 170,
   "id": "f9f30bd9",
   "metadata": {},
   "outputs": [
    {
     "data": {
      "application/vnd.jupyter.widget-view+json": {
       "model_id": "4b59fc8683ba441cae1573e608e68a62",
       "version_major": 2,
       "version_minor": 0
      },
      "text/plain": [
       "  0%|          | 0/23 [00:00<?, ?it/s]"
      ]
     },
     "metadata": {},
     "output_type": "display_data"
    }
   ],
   "source": [
    "from sklearn.linear_model import LogisticRegression\n",
    "from sklearn.metrics import accuracy_score\n",
    "import warnings\n",
    "warnings.filterwarnings('ignore')\n",
    "# Data Import and Normalization-------------------------------------------------\n",
    "(x_train2, y_train2), (x_test2, y_test2) = mnist.load_data()\n",
    "x_train2 = x_train2/255\n",
    "x_test2 = x_test2/255\n",
    "#--------------------------------------------------------------------------------\n",
    "# Applying SVD and calculating Accuracy corresponding to the Singular Values-----\n",
    "temp=[]\n",
    "all_accuracy=[]\n",
    "for j in trange(6,29):     # Iteration for Selected Singular Values\n",
    "    for i in range(x_train2.shape[0]):  # Iteration for Number of Training Image\n",
    "        x_train=x_train2\n",
    "        u,s,v = np.linalg.svd(x_train[i])\n",
    "        s2 = np.diag(s)\n",
    "        s2 = s2[:j,:j]\n",
    "        u2 = u[:,:j]\n",
    "        v2 = v[:j,:]\n",
    "        reduced_img=u2@s2@v2\n",
    "        x_train[i]=reduced_img#----------# Feature Reduced Training Data\n",
    "    x_train = x_train.reshape(x_train.shape[0],-1)\n",
    "    x_test2 = x_test2.reshape(x_test2.shape[0],-1)\n",
    "    #y_train2 = y_train2.reshape(y_train2.shape[0],1)\n",
    "    #y_test2 = y_test2.reshape(y_test2.shape[0],1)\n",
    "    #--------------------------------------------------------------------------------\n",
    "    logmodel = LogisticRegression()\n",
    "    logmodel.fit(x_train,y_train2)\n",
    "    prediction = logmodel.predict(x_test2)\n",
    "    temp = accuracy_score(y_test2,prediction)\n",
    "    all_accuracy.append(temp)"
   ]
  },
  {
   "cell_type": "code",
   "execution_count": 172,
   "id": "d2ef05de",
   "metadata": {},
   "outputs": [
    {
     "data": {
      "text/plain": [
       "[<matplotlib.lines.Line2D at 0x28b91a76358>]"
      ]
     },
     "execution_count": 172,
     "metadata": {},
     "output_type": "execute_result"
    },
    {
     "data": {
      "image/png": "[encoded data removed]",
      "text/plain": [
       "<Figure size 432x288 with 1 Axes>"
      ]
     },
     "metadata": {
      "needs_background": "light"
     },
     "output_type": "display_data"
    }
   ],
   "source": [
    "svalues=np.arange(6,29)\n",
    "plt.plot(svalues,all_accuracy)"
   ]
  },
  {
   "cell_type": "markdown",
   "id": "19169919",
   "metadata": {},
   "source": [
    "#### At Singular Value 18 and 20 - 0.9163 accuracy observed. Hence the optimum number of feature required is 18.\n",
    "# ---------------------------------------------------------------------------------------"
   ]
  },
  {
   "cell_type": "markdown",
   "id": "f796d3df",
   "metadata": {},
   "source": [
    "### Question 5:\n",
    "#### For the optimal feature dimension, evaluate the model before and after applying the feature dimension based on Precision, Recall and F1-Score for each class\n",
    "# ----------------------------------------------------------------------------------------"
   ]
  },
  {
   "cell_type": "markdown",
   "id": "c70c3317",
   "metadata": {},
   "source": [
    "#### From Question 4 -> optimum feature dimension is 18. Calculating Precision, Recall and F1 Score for each class corresponding to that feature dimension"
   ]
  },
  {
   "cell_type": "code",
   "execution_count": 91,
   "id": "393dd6c5",
   "metadata": {},
   "outputs": [],
   "source": [
    "# Data Import and Normalization-------------------------------------------------\n",
    "(x_train3, y_train3), (x_test3, y_test3) = mnist.load_data()\n",
    "x_train3 = x_train3/255\n",
    "x_test3 = x_test3/255\n",
    "Predictions = []\n",
    "#Predictions = np.zeros([10,785])\n",
    "for i in range(x_train3.shape[0]):  # Iteration for Number of Training Image\n",
    "    x_train=x_train3\n",
    "    x_test=x_test3\n",
    "    y_train=y_train3\n",
    "    y_test=y_test3\n",
    "    u,s,v = np.linalg.svd(x_train[i])\n",
    "    s2 = np.diag(s)\n",
    "    s2 = s2[:19,:19]\n",
    "    u2 = u[:,:19]\n",
    "    v2 = v[:19,:]\n",
    "    reduced_img=u2@s2@v2\n",
    "    x_train[i]=reduced_img#----------# Feature Reduced Training Data\n",
    "x_train = x_train.reshape(x_train.shape[0],-1)\n",
    "x_test = x_test.reshape(x_test.shape[0],-1)\n",
    "y_train = y_train.reshape(y_train.shape[0],1)\n",
    "y_test = y_test.reshape(y_test.shape[0],1)\n",
    "#--------------------------------------------------------------------------------\n",
    "# Bias column added to the data--------------------------------------------------\n",
    "padding = np.ones((60000,1)) #training padding\n",
    "padding1 = np.ones((10000,1)) #test padding\n",
    "x_train = np.concatenate((padding,x_train),axis=1)\n",
    "x_test = np.concatenate((padding1,x_test),axis=1)\n",
    "#--------------------------------------------------------------------------------\n",
    "# It is a Multi Class Classification dataset. Creating target vector based on one vs all concept \n",
    "# Training data target conversion------------------------------------------------\n",
    "y_all = np.zeros([x_train.shape[0], len(np.unique(y_train))])\n",
    "y_all = pd.DataFrame(y_all)\n",
    "for i in range(0, len(np.unique(y_train))):\n",
    "    y_all.iloc[:,i] = np.where(y_train==i,1,0)\n",
    "# Testing data target conversion-------------------------------------------------\n",
    "y_test_all = np.zeros([x_test.shape[0], len(np.unique(y_test))])\n",
    "y_test_all = pd.DataFrame(y_test_all)\n",
    "for i in range(0, len(np.unique(y_test))):\n",
    "    y_test_all.iloc[:,i] = np.where(y_test==i,1,0)\n",
    "#--------------------------------------------------------------------------------\n",
    "# Converting data into pandas dataframe for easy processing----------------------\n",
    "x_train = pd.DataFrame(x_train)\n",
    "x_test = pd.DataFrame(x_test)\n",
    "#--------------------------------------------------------------------------------\n",
    "weights = np.zeros([785, 10])                              # Initially weights are assumed to be zero\n",
    "weights = Weights_update(x_train, y_all, weights, 0.3,100) # Updated Weights after 100 iterations\n",
    "Predictions = prediction(weights,x_test)"
   ]
  },
  {
   "cell_type": "markdown",
   "id": "814a863f",
   "metadata": {},
   "source": [
    "### Precision, Recall and F1 Score for optimum feature dimension"
   ]
  },
  {
   "cell_type": "code",
   "execution_count": 101,
   "id": "f753163d",
   "metadata": {},
   "outputs": [
    {
     "name": "stdout",
     "output_type": "stream",
     "text": [
      "              precision    recall  f1-score   support\n",
      "\n",
      "           0       0.93      0.95      0.94       956\n",
      "           1       0.93      0.97      0.95      1090\n",
      "           2       0.74      0.95      0.84       807\n",
      "           3       0.75      0.91      0.82       825\n",
      "           4       0.77      0.94      0.84       801\n",
      "           5       0.58      0.91      0.71       569\n",
      "           6       0.86      0.92      0.89       889\n",
      "           7       0.83      0.96      0.89       887\n",
      "           8       0.52      0.80      0.63       634\n",
      "           9       0.63      0.85      0.73       750\n",
      "\n",
      "   micro avg       0.76      0.92      0.83      8208\n",
      "   macro avg       0.75      0.92      0.82      8208\n",
      "weighted avg       0.78      0.92      0.84      8208\n",
      " samples avg       0.76      0.74      0.75      8208\n",
      "\n"
     ]
    },
    {
     "data": {
      "text/plain": [
       "0.7576"
      ]
     },
     "execution_count": 101,
     "metadata": {},
     "output_type": "execute_result"
    }
   ],
   "source": [
    "Predictions1 = (np.where(Predictions<0.5,0,1)).T\n",
    "from sklearn.metrics import confusion_matrix,classification_report\n",
    "print(classification_report(Predictions1,y_test_all))\n",
    "accuracy(y_test_all,prediction(weights,x_test),x_test)"
   ]
  },
  {
   "cell_type": "markdown",
   "id": "cbb9fc49",
   "metadata": {},
   "source": [
    "### Before applying feature reduction"
   ]
  },
  {
   "cell_type": "code",
   "execution_count": 102,
   "id": "b3b33209",
   "metadata": {},
   "outputs": [],
   "source": [
    "# Data Import and Normalization-------------------------------------------------\n",
    "(x_train1, y_train1), (x_test1, y_test1) = mnist.load_data()\n",
    "x_train1 = x_train1/255\n",
    "x_test1 = x_test1/255\n",
    "# Converting all image as a row vectors -----------------------------------------\n",
    "x_train1 = x_train1.reshape(x_train1.shape[0],-1)\n",
    "x_test1 = x_test1.reshape(x_test1.shape[0],-1)\n",
    "y_train1 = y_train1.reshape(y_train1.shape[0],1)\n",
    "y_test1 = y_test1.reshape(y_test1.shape[0],1)\n",
    "#--------------------------------------------------------------------------------\n",
    "# Bias column added to the data--------------------------------------------------\n",
    "padding = np.ones((60000,1)) #training padding\n",
    "padding1 = np.ones((10000,1)) #test padding\n",
    "x_train1 = np.concatenate((padding,x_train1),axis=1)\n",
    "x_test1 = np.concatenate((padding1,x_test1),axis=1)\n",
    "#--------------------------------------------------------------------------------\n",
    "# It is a Multi Class Classification dataset. Creating target vector based on one vs all concept \n",
    "# Training data target conversion------------------------------------------------\n",
    "y_all1 = np.zeros([x_train1.shape[0], len(np.unique(y_train1))])\n",
    "y_all1 = pd.DataFrame(y_all1)\n",
    "for i in range(0, len(np.unique(y_train1))):\n",
    "    y_all1.iloc[:,i] = np.where(y_train1==i,1,0)\n",
    "# Testing data target conversion-------------------------------------------------\n",
    "y_test_all1 = np.zeros([x_test1.shape[0], len(np.unique(y_test1))])\n",
    "y_test_all1 = pd.DataFrame(y_test_all1)\n",
    "for i in range(0, len(np.unique(y_test1))):\n",
    "    y_test_all1.iloc[:,i] = np.where(y_test1==i,1,0)\n",
    "#--------------------------------------------------------------------------------\n",
    "# Converting data into pandas dataframe for easy processing----------------------\n",
    "x_train1 = pd.DataFrame(x_train1)\n",
    "x_test1 = pd.DataFrame(x_test1)\n",
    "#--------------------------------------------------------------------------------\n",
    "weights1 = np.zeros([785, 10])                              # Initially weights are assumed to be zero\n",
    "weights1 = Weights_update(x_train1, y_all1, weights1, 0.3,100) # Updated Weights after 100 iterations\n",
    "Predictions = prediction(weights1,x_test1)"
   ]
  },
  {
   "cell_type": "code",
   "execution_count": 112,
   "id": "aa6f4de9",
   "metadata": {},
   "outputs": [
    {
     "name": "stderr",
     "output_type": "stream",
     "text": [
      "C:\\Users\\ARUL GOUTHAM RAJU\\anaconda3\\envs\\pytorchenv\\lib\\site-packages\\sklearn\\metrics\\classification.py:1145: UndefinedMetricWarning: Recall and F-score are ill-defined and being set to 0.0 in samples with no true labels.\n",
      "  'recall', 'true', average, warn_for)\n"
     ]
    },
    {
     "name": "stdout",
     "output_type": "stream",
     "text": [
      "              precision    recall  f1-score   support\n",
      "\n",
      "           0       0.93      0.95      0.94       956\n",
      "           1       0.93      0.97      0.95      1090\n",
      "           2       0.74      0.95      0.84       807\n",
      "           3       0.75      0.91      0.82       825\n",
      "           4       0.77      0.94      0.84       801\n",
      "           5       0.58      0.91      0.71       569\n",
      "           6       0.86      0.92      0.89       889\n",
      "           7       0.83      0.96      0.89       887\n",
      "           8       0.52      0.80      0.63       634\n",
      "           9       0.63      0.85      0.73       750\n",
      "\n",
      "   micro avg       0.76      0.92      0.83      8208\n",
      "   macro avg       0.75      0.92      0.82      8208\n",
      "weighted avg       0.78      0.92      0.84      8208\n",
      " samples avg       0.76      0.74      0.75      8208\n",
      "\n"
     ]
    },
    {
     "data": {
      "text/plain": [
       "0.7576"
      ]
     },
     "execution_count": 112,
     "metadata": {},
     "output_type": "execute_result"
    }
   ],
   "source": [
    "Predictions2 = (np.where(Predictions<0.5,0,1)).T\n",
    "from sklearn.metrics import confusion_matrix,classification_report\n",
    "print(classification_report(Predictions2,y_test_all1))\n",
    "accuracy(y_test_all1,prediction(weights1,x_test1),x_test1)"
   ]
  },
  {
   "cell_type": "markdown",
   "id": "dee1ca98",
   "metadata": {},
   "source": [
    "#### Two major points were observed based on the results obtained from before and after applying feature reduction:\n",
    "#### 1. Precision, Recall and F1-Score are Same for both the case\n",
    "#### 2. Processing time After feature reduction is less when compared with before feature reduction\n",
    "#### Hence the optimum number of features replaces data with all features "
   ]
  },
  {
   "cell_type": "code",
   "execution_count": null,
   "id": "c826dd13",
   "metadata": {},
   "outputs": [],
   "source": []
  }
 ],
 "metadata": {
  "kernelspec": {
   "display_name": "Python 3 (ipykernel)",
   "language": "python",
   "name": "python3"
  },
  "language_info": {
   "codemirror_mode": {
    "name": "ipython",
    "version": 3
   },
   "file_extension": ".py",
   "mimetype": "text/x-python",
   "name": "python",
   "nbconvert_exporter": "python",
   "pygments_lexer": "ipython3",
   "version": "3.7.3"
  }
 },
 "nbformat": 4,
 "nbformat_minor": 5
}
