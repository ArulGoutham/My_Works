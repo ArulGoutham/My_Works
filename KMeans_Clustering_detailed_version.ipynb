{
 "cells": [
  {
   "cell_type": "markdown",
   "metadata": {},
   "source": [
    "# Creating Clustering data set  \n",
    "# Implementing and validating KMeans Clustering Algorithm "
   ]
  },
  {
   "cell_type": "code",
   "execution_count": 1,
   "metadata": {
    "id": "tf5EsPsIBh6q"
   },
   "outputs": [],
   "source": [
    "import numpy as np\n",
    "import pandas as pd\n",
    "import numpy.matlib\n",
    "from sklearn.model_selection import train_test_split\n",
    "from scipy.spatial.distance import cdist \n",
    "from sklearn.metrics import *\n",
    "import random\n",
    "import matplotlib.pyplot as plt"
   ]
  },
  {
   "cell_type": "markdown",
   "metadata": {},
   "source": [
    "## Creating Dataset using Using Inbuilt Function - multivariate_normal\n",
    "#### For Cholesky Decomposition detailed data creation.. check the other ipython file in repository"
   ]
  },
  {
   "cell_type": "code",
   "execution_count": 2,
   "metadata": {
    "colab": {
     "base_uri": "https://localhost:8080/"
    },
    "id": "jc4_vB02A7Of",
    "outputId": "ec523506-cc60-417d-eb93-421b957b8c57"
   },
   "outputs": [
    {
     "name": "stdout",
     "output_type": "stream",
     "text": [
      "   Feature1  Feature2\n",
      "0  5.232261  4.113322\n",
      "1  8.066378  6.177856\n",
      "2  6.565377  5.633765\n",
      "3  4.159073  6.093024\n",
      "4  7.320487  6.064524\n",
      "   0\n",
      "0  0\n",
      "1  0\n",
      "2  0\n",
      "3  0\n",
      "4  0\n"
     ]
    }
   ],
   "source": [
    "Mu1= [5,6]; \n",
    "Mu2= [25,10]; \n",
    "Mu3= [15,20]; \n",
    "Sigma=2*np.eye(2) \n",
    "N=50 \n",
    "\n",
    "clust1=pd.DataFrame(np.random.multivariate_normal(Mu1,Sigma,N),columns=['Feature1','Feature2'])\n",
    "target1=pd.DataFrame(np.matlib.repmat(np.argmax([1,0,0]),N,1))\n",
    "clust2=pd.DataFrame(np.random.multivariate_normal(Mu2,Sigma,N),columns=['Feature1','Feature2'])\n",
    "target2=pd.DataFrame(np.matlib.repmat(np.argmax([0,1,0]),N,1))\n",
    "clust3=pd.DataFrame(np.random.multivariate_normal(Mu3,Sigma,N),columns=['Feature1','Feature2'])\n",
    "target3=pd.DataFrame(np.matlib.repmat(np.argmax([0,0,1]),N,1))\n",
    "\n",
    "X=pd.concat([clust1,clust2,clust3])\n",
    "Y=pd.concat([target1,target2,target3])\n",
    "print(X.head(5))\n",
    "print(Y.head(5))\n",
    "\n",
    "no_of_instances = len(X.index) # number of rows\n",
    "no_of_columns = len(X.columns)\n",
    "np_X= X.to_numpy(copy=True)\n",
    "np_Y= Y.to_numpy(copy=True)"
   ]
  },
  {
   "cell_type": "code",
   "execution_count": 3,
   "metadata": {
    "id": "xqiyw-21oTSh"
   },
   "outputs": [],
   "source": [
    "Xtrain, Xtest, Ytrain, Ytest = train_test_split(np_X, np_Y, test_size = 0.25,random_state=42)\n",
    "no_of_instances_train = Xtrain.shape[0]# number of rows\n",
    "no_of_columns_train = Xtrain.shape[1]"
   ]
  },
  {
   "cell_type": "code",
   "execution_count": 4,
   "metadata": {
    "id": "5gQbP6WaC0a_"
   },
   "outputs": [],
   "source": [
    "def kmeans(x,k, no_of_iterations):\n",
    "    np.random.seed(96)\n",
    "    idx = np.random.choice(len(x), k, replace=False)\n",
    "    #Randomly choosing Centroids \n",
    "    centroids = x[idx, :] #Step 1\n",
    "     \n",
    "    #finding the distance between centroids and all the data points\n",
    "    distances = cdist(x, centroids ,'euclidean') #Step 2\n",
    "     \n",
    "    #Centroid with the minimum Distance\n",
    "    points = np.array([np.argmin(i) for i in distances]) #Step 3\n",
    "     \n",
    "    #Repeating the above steps for a defined number of iterations\n",
    "    #Step 4\n",
    "    \n",
    "    for _ in range(no_of_iterations): \n",
    "        centroids = []\n",
    "        for idx in range(k):\n",
    "            #Updating Centroids by taking mean of Cluster it belongs to\n",
    "            temp_cent = x[points==idx].mean(axis=0) \n",
    "            centroids.append(temp_cent)\n",
    "        centroids = np.vstack(centroids) #Updated Centroids \n",
    "        \n",
    "        distances = cdist(x, centroids ,'euclidean')\n",
    "        points = np.array([np.argmin(i) for i in distances])\n",
    "         \n",
    "    return points,centroids"
   ]
  },
  {
   "cell_type": "code",
   "execution_count": 15,
   "metadata": {
    "id": "AetBDTaWC9aP"
   },
   "outputs": [],
   "source": [
    "def find_k():\n",
    "  twcss=[]\n",
    "  accuracy=[]\n",
    "  iterations=100\n",
    "  for j in range(1,10):\n",
    "    YTrain_pred,centroid=kmeans(Xtrain,j,iterations)\n",
    "    acc= accuracy_score(Ytrain,YTrain_pred)\n",
    "    accuracy.append(acc)\n",
    "    XY_T=pd.DataFrame(Xtrain,columns=['F0','F1'])\n",
    "    Y_T=pd.DataFrame(YTrain_pred,columns=['Label'])\n",
    "    XY=pd.concat([XY_T, Y_T], axis=1)\n",
    "    \n",
    "    d={}\n",
    "    for z in range(j):\n",
    "      d[z] = np.array(XY[XY[\"Label\"]==z][['F0','F1']])\n",
    "\n",
    "    wcss=0\n",
    "    for i in range(j): \n",
    "      wcss+=np.sum((d[i]-centroid[i,:])**2)                              \n",
    "\n",
    "    twcss.append(wcss)\n",
    "\n",
    "  return twcss,accuracy"
   ]
  },
  {
   "cell_type": "code",
   "execution_count": 19,
   "metadata": {
    "colab": {
     "base_uri": "https://localhost:8080/",
     "height": 546
    },
    "id": "nGOoFo2b9DUJ",
    "outputId": "83681143-8687-4062-a0c7-367e92b8f553"
   },
   "outputs": [
    {
     "data": {
      "image/png": "[encoded data removed]",
      "text/plain": [
       "<Figure size 432x288 with 1 Axes>"
      ]
     },
     "metadata": {
      "needs_background": "light"
     },
     "output_type": "display_data"
    },
    {
     "data": {
      "text/plain": [
       "[<matplotlib.lines.Line2D at 0x7f6002538e90>]"
      ]
     },
     "execution_count": 19,
     "metadata": {},
     "output_type": "execute_result"
    },
    {
     "data": {
      "image/png": "[encoded data removed]",
      "text/plain": [
       "<Figure size 432x288 with 1 Axes>"
      ]
     },
     "metadata": {
      "needs_background": "light"
     },
     "output_type": "display_data"
    }
   ],
   "source": [
    "[twcss,accuracy]=find_k()\n",
    "plt.plot(range(1,10),twcss)\n",
    "plt.xlabel('k-value')\n",
    "plt.ylabel('within cluster sum of squares')\n",
    "plt.show()\n",
    "plt.plot(range(1,10),accuracy)"
   ]
  },
  {
   "cell_type": "code",
   "execution_count": 20,
   "metadata": {
    "colab": {
     "base_uri": "https://localhost:8080/"
    },
    "id": "Ydlee3Ck_RaW",
    "outputId": "aa664d99-c26f-4b0e-8c66-e4a3df653107"
   },
   "outputs": [
    {
     "name": "stdout",
     "output_type": "stream",
     "text": [
      "1.0\n",
      "[[35  0  0]\n",
      " [ 0 39  0]\n",
      " [ 0  0 38]]\n",
      "              precision    recall  f1-score   support\n",
      "\n",
      "           0       1.00      1.00      1.00        35\n",
      "           1       1.00      1.00      1.00        39\n",
      "           2       1.00      1.00      1.00        38\n",
      "\n",
      "    accuracy                           1.00       112\n",
      "   macro avg       1.00      1.00      1.00       112\n",
      "weighted avg       1.00      1.00      1.00       112\n",
      "\n"
     ]
    }
   ],
   "source": [
    "YTrain_pred,centroid=kmeans(Xtrain,3,100)\n",
    "print(accuracy_score(Ytrain,YTrain_pred))  \n",
    "print(confusion_matrix(Ytrain,YTrain_pred))\n",
    "print(classification_report(Ytrain,YTrain_pred))"
   ]
  },
  {
   "cell_type": "code",
   "execution_count": null,
   "metadata": {
    "colab": {
     "base_uri": "https://localhost:8080/"
    },
    "id": "dXwIpgBm4yez",
    "outputId": "291ed4f0-b927-4671-c15e-4d1ac927205a"
   },
   "outputs": [
    {
     "name": "stdout",
     "output_type": "stream",
     "text": [
      "1.0\n",
      "[[15  0  0]\n",
      " [ 0 11  0]\n",
      " [ 0  0 12]]\n",
      "              precision    recall  f1-score   support\n",
      "\n",
      "           0       1.00      1.00      1.00        15\n",
      "           1       1.00      1.00      1.00        11\n",
      "           2       1.00      1.00      1.00        12\n",
      "\n",
      "    accuracy                           1.00        38\n",
      "   macro avg       1.00      1.00      1.00        38\n",
      "weighted avg       1.00      1.00      1.00        38\n",
      "\n"
     ]
    }
   ],
   "source": [
    "# evaluating k-means with test data\n",
    "distances = cdist(Xtest, centroid ,'euclidean')\n",
    "YTest_pred = np.array([np.argmin(i) for i in distances])\n",
    "print(accuracy_score(Ytest,YTest_pred))  \n",
    "print(confusion_matrix(Ytest,YTest_pred))\n",
    "print(classification_report(Ytest,YTest_pred))"
   ]
  },
  {
   "cell_type": "code",
   "execution_count": null,
   "metadata": {
    "colab": {
     "base_uri": "https://localhost:8080/",
     "height": 265
    },
    "id": "dbcyJNtk7Ojs",
    "outputId": "dd551174-4571-4955-f468-0e466208b032"
   },
   "outputs": [
    {
     "data": {
      "image/png": "[encoded data removed]",
      "text/plain": [
       "<Figure size 432x288 with 1 Axes>"
      ]
     },
     "metadata": {
      "needs_background": "light"
     },
     "output_type": "display_data"
    }
   ],
   "source": [
    "plt.scatter(clust1['Feature1'],clust1['Feature2'], color = 'red')\n",
    "plt.scatter(clust2['Feature1'],clust2['Feature2'], color = 'black')\n",
    "plt.scatter(clust3['Feature1'],clust3['Feature2'], color = 'blue')\n",
    "plt.show()"
   ]
  },
  {
   "cell_type": "code",
   "execution_count": null,
   "metadata": {
    "colab": {
     "base_uri": "https://localhost:8080/",
     "height": 265
    },
    "id": "-WsFtGRNXkF4",
    "outputId": "a9f17093-d7b9-43c2-8123-a23531719fdd"
   },
   "outputs": [
    {
     "data": {
      "image/png": "[encoded data removed]",
      "text/plain": [
       "<Figure size 432x288 with 1 Axes>"
      ]
     },
     "metadata": {
      "needs_background": "light"
     },
     "output_type": "display_data"
    }
   ],
   "source": [
    "plt.scatter(Xtrain[:,0],Xtrain[:,1],label='Training data')\n",
    "plt.scatter(Xtest[:,0],Xtest[:,1],label='Testing data')\n",
    "plt.scatter(centroid[0][0],centroid[0][1],marker='x',color='black',label='centroid',linewidth=4,s=100)\n",
    "plt.scatter(centroid[1][0],centroid[1][1],marker='x',color='black',linewidth=4,s=100)\n",
    "plt.scatter(centroid[2][0],centroid[2][1],marker='x',color='black',linewidth=4,s=100)\n",
    "plt.legend()\n",
    "plt.show()"
   ]
  }
 ],
 "metadata": {
  "accelerator": "GPU",
  "colab": {
   "collapsed_sections": [],
   "name": "kmeans.ipynb",
   "provenance": []
  },
  "kernelspec": {
   "display_name": "Python 3",
   "language": "python",
   "name": "python3"
  },
  "language_info": {
   "codemirror_mode": {
    "name": "ipython",
    "version": 3
   },
   "file_extension": ".py",
   "mimetype": "text/x-python",
   "name": "python",
   "nbconvert_exporter": "python",
   "pygments_lexer": "ipython3",
   "version": "3.8.5"
  }
 },
 "nbformat": 4,
 "nbformat_minor": 1
}
