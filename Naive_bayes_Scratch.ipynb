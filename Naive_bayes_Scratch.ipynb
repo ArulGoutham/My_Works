{
 "cells": [
  {
   "cell_type": "markdown",
   "metadata": {},
   "source": [
    "# Implement and validate of the Naïve Bayes algorithm for classification."
   ]
  },
  {
   "cell_type": "code",
   "execution_count": 22,
   "metadata": {},
   "outputs": [],
   "source": [
    "import numpy as np\n",
    "import pandas as pd\n",
    "import matplotlib.pyplot as plt\n",
    "import seaborn as sns\n",
    "from sklearn.metrics import *\n",
    "%matplotlib inline"
   ]
  },
  {
   "cell_type": "code",
   "execution_count": 23,
   "metadata": {},
   "outputs": [],
   "source": [
    "df = pd.read_csv('Data_Naive_Bayes.csv')"
   ]
  },
  {
   "cell_type": "code",
   "execution_count": 24,
   "metadata": {},
   "outputs": [
    {
     "data": {
      "text/html": [
       "<div>\n",
       "<style scoped>\n",
       "    .dataframe tbody tr th:only-of-type {\n",
       "        vertical-align: middle;\n",
       "    }\n",
       "\n",
       "    .dataframe tbody tr th {\n",
       "        vertical-align: top;\n",
       "    }\n",
       "\n",
       "    .dataframe thead th {\n",
       "        text-align: right;\n",
       "    }\n",
       "</style>\n",
       "<table border=\"1\" class=\"dataframe\">\n",
       "  <thead>\n",
       "    <tr style=\"text-align: right;\">\n",
       "      <th></th>\n",
       "      <th>Species</th>\n",
       "      <th>Weight</th>\n",
       "      <th>Length1</th>\n",
       "      <th>Length2</th>\n",
       "      <th>Length3</th>\n",
       "      <th>Height</th>\n",
       "      <th>Width</th>\n",
       "    </tr>\n",
       "  </thead>\n",
       "  <tbody>\n",
       "    <tr>\n",
       "      <th>0</th>\n",
       "      <td>Bream</td>\n",
       "      <td>242.0</td>\n",
       "      <td>23.2</td>\n",
       "      <td>25.4</td>\n",
       "      <td>30.0</td>\n",
       "      <td>11.5200</td>\n",
       "      <td>4.0200</td>\n",
       "    </tr>\n",
       "    <tr>\n",
       "      <th>1</th>\n",
       "      <td>Bream</td>\n",
       "      <td>290.0</td>\n",
       "      <td>24.0</td>\n",
       "      <td>26.3</td>\n",
       "      <td>31.2</td>\n",
       "      <td>12.4800</td>\n",
       "      <td>4.3056</td>\n",
       "    </tr>\n",
       "    <tr>\n",
       "      <th>2</th>\n",
       "      <td>Bream</td>\n",
       "      <td>340.0</td>\n",
       "      <td>23.9</td>\n",
       "      <td>26.5</td>\n",
       "      <td>31.1</td>\n",
       "      <td>12.3778</td>\n",
       "      <td>4.6961</td>\n",
       "    </tr>\n",
       "    <tr>\n",
       "      <th>3</th>\n",
       "      <td>Bream</td>\n",
       "      <td>363.0</td>\n",
       "      <td>26.3</td>\n",
       "      <td>29.0</td>\n",
       "      <td>33.5</td>\n",
       "      <td>12.7300</td>\n",
       "      <td>4.4555</td>\n",
       "    </tr>\n",
       "    <tr>\n",
       "      <th>4</th>\n",
       "      <td>Bream</td>\n",
       "      <td>430.0</td>\n",
       "      <td>26.5</td>\n",
       "      <td>29.0</td>\n",
       "      <td>34.0</td>\n",
       "      <td>12.4440</td>\n",
       "      <td>5.1340</td>\n",
       "    </tr>\n",
       "  </tbody>\n",
       "</table>\n",
       "</div>"
      ],
      "text/plain": [
       "  Species  Weight  Length1  Length2  Length3   Height   Width\n",
       "0   Bream   242.0     23.2     25.4     30.0  11.5200  4.0200\n",
       "1   Bream   290.0     24.0     26.3     31.2  12.4800  4.3056\n",
       "2   Bream   340.0     23.9     26.5     31.1  12.3778  4.6961\n",
       "3   Bream   363.0     26.3     29.0     33.5  12.7300  4.4555\n",
       "4   Bream   430.0     26.5     29.0     34.0  12.4440  5.1340"
      ]
     },
     "execution_count": 24,
     "metadata": {},
     "output_type": "execute_result"
    }
   ],
   "source": [
    "df.head()"
   ]
  },
  {
   "cell_type": "code",
   "execution_count": 25,
   "metadata": {},
   "outputs": [
    {
     "name": "stdout",
     "output_type": "stream",
     "text": [
      "<class 'pandas.core.frame.DataFrame'>\n",
      "RangeIndex: 159 entries, 0 to 158\n",
      "Data columns (total 7 columns):\n",
      " #   Column   Non-Null Count  Dtype  \n",
      "---  ------   --------------  -----  \n",
      " 0   Species  159 non-null    object \n",
      " 1   Weight   159 non-null    float64\n",
      " 2   Length1  159 non-null    float64\n",
      " 3   Length2  159 non-null    float64\n",
      " 4   Length3  159 non-null    float64\n",
      " 5   Height   159 non-null    float64\n",
      " 6   Width    159 non-null    float64\n",
      "dtypes: float64(6), object(1)\n",
      "memory usage: 8.8+ KB\n"
     ]
    }
   ],
   "source": [
    "df.info()"
   ]
  },
  {
   "cell_type": "code",
   "execution_count": 26,
   "metadata": {},
   "outputs": [
    {
     "data": {
      "image/png": "[encoded data removed]",
      "text/plain": [
       "<Figure size 432x288 with 1 Axes>"
      ]
     },
     "metadata": {
      "needs_background": "light"
     },
     "output_type": "display_data"
    }
   ],
   "source": [
    "df1 = sns.countplot(x='Species',data=df)\n",
    "for p in df1.patches:\n",
    "    df1.annotate(f'\\n{p.get_height()}', (p.get_x()+0.2, p.get_height()), ha='center', va='top', color='white', size=10)\n",
    "plt.show()"
   ]
  },
  {
   "cell_type": "code",
   "execution_count": 27,
   "metadata": {},
   "outputs": [
    {
     "data": {
      "text/html": [
       "<div>\n",
       "<style scoped>\n",
       "    .dataframe tbody tr th:only-of-type {\n",
       "        vertical-align: middle;\n",
       "    }\n",
       "\n",
       "    .dataframe tbody tr th {\n",
       "        vertical-align: top;\n",
       "    }\n",
       "\n",
       "    .dataframe thead th {\n",
       "        text-align: right;\n",
       "    }\n",
       "</style>\n",
       "<table border=\"1\" class=\"dataframe\">\n",
       "  <thead>\n",
       "    <tr style=\"text-align: right;\">\n",
       "      <th></th>\n",
       "      <th>Species</th>\n",
       "      <th>Weight</th>\n",
       "      <th>Length1</th>\n",
       "      <th>Length2</th>\n",
       "      <th>Length3</th>\n",
       "      <th>Height</th>\n",
       "      <th>Width</th>\n",
       "    </tr>\n",
       "  </thead>\n",
       "  <tbody>\n",
       "    <tr>\n",
       "      <th>0</th>\n",
       "      <td>1</td>\n",
       "      <td>242.0</td>\n",
       "      <td>23.2</td>\n",
       "      <td>25.4</td>\n",
       "      <td>30.0</td>\n",
       "      <td>11.5200</td>\n",
       "      <td>4.0200</td>\n",
       "    </tr>\n",
       "    <tr>\n",
       "      <th>1</th>\n",
       "      <td>1</td>\n",
       "      <td>290.0</td>\n",
       "      <td>24.0</td>\n",
       "      <td>26.3</td>\n",
       "      <td>31.2</td>\n",
       "      <td>12.4800</td>\n",
       "      <td>4.3056</td>\n",
       "    </tr>\n",
       "    <tr>\n",
       "      <th>2</th>\n",
       "      <td>1</td>\n",
       "      <td>340.0</td>\n",
       "      <td>23.9</td>\n",
       "      <td>26.5</td>\n",
       "      <td>31.1</td>\n",
       "      <td>12.3778</td>\n",
       "      <td>4.6961</td>\n",
       "    </tr>\n",
       "    <tr>\n",
       "      <th>3</th>\n",
       "      <td>1</td>\n",
       "      <td>363.0</td>\n",
       "      <td>26.3</td>\n",
       "      <td>29.0</td>\n",
       "      <td>33.5</td>\n",
       "      <td>12.7300</td>\n",
       "      <td>4.4555</td>\n",
       "    </tr>\n",
       "    <tr>\n",
       "      <th>4</th>\n",
       "      <td>1</td>\n",
       "      <td>430.0</td>\n",
       "      <td>26.5</td>\n",
       "      <td>29.0</td>\n",
       "      <td>34.0</td>\n",
       "      <td>12.4440</td>\n",
       "      <td>5.1340</td>\n",
       "    </tr>\n",
       "  </tbody>\n",
       "</table>\n",
       "</div>"
      ],
      "text/plain": [
       "   Species  Weight  Length1  Length2  Length3   Height   Width\n",
       "0        1   242.0     23.2     25.4     30.0  11.5200  4.0200\n",
       "1        1   290.0     24.0     26.3     31.2  12.4800  4.3056\n",
       "2        1   340.0     23.9     26.5     31.1  12.3778  4.6961\n",
       "3        1   363.0     26.3     29.0     33.5  12.7300  4.4555\n",
       "4        1   430.0     26.5     29.0     34.0  12.4440  5.1340"
      ]
     },
     "execution_count": 27,
     "metadata": {},
     "output_type": "execute_result"
    }
   ],
   "source": [
    "smap = {'Perch':0,'Bream':1,'Roach':2,'Pike':3,'Smelt':4,'Parkki':5,'Whitefish':6}\n",
    "df['Species'] = df['Species'].map(smap)\n",
    "df.head()"
   ]
  },
  {
   "cell_type": "code",
   "execution_count": 28,
   "metadata": {},
   "outputs": [
    {
     "name": "stdout",
     "output_type": "stream",
     "text": [
      "No.of data points in each class:\n",
      " 0    56\n",
      "1    35\n",
      "2    20\n",
      "3    17\n",
      "4    14\n",
      "5    11\n",
      "6     6\n",
      "Name: Species, dtype: int64\n"
     ]
    }
   ],
   "source": [
    "# converting X & Y to numpy arrays\n",
    "X = df.to_numpy()\n",
    "y = df['Species'].to_numpy()\n",
    "\n",
    "from sklearn.model_selection import train_test_split\n",
    "# Splitting into train & test sets (i.e,80:20 ratio , no.of.training data points=127,no.of.testing data points=32 )\n",
    "X_train,X_test,y_train,y_test=train_test_split(X,y,test_size=0.2, shuffle=True, random_state=42)\n",
    "\n",
    "# calculating mean\n",
    "unique_class=np.unique(X_train[:,0]) # taking the 7 unique class values \n",
    "Mean=[np.mean(X_train[X_train[:,0]==i, 1:], axis=0) for i in unique_class] # taking the mean of corresponding class rows\n",
    "# 7x6 matrix, rows are corresponding class & columns are corresponding features\n",
    "\n",
    "# calculating standard deviation\n",
    "unique_class=np.unique(X_train[:,0])# taking the 7 unique class values \n",
    "sd=[np.std(X_train[X_train[:,0]==i, 1:], axis=0) for i in unique_class]#taking the standard deviation of corresponding class rows\n",
    "# 7x6matrix, rows are corresponding class & columns are corresponding features\n",
    "\n",
    "Class = df['Species'].value_counts()\n",
    "print('No.of data points in each class:\\n',Class) # 7x1 rows represent number of rows corresponding to unique class"
   ]
  },
  {
   "cell_type": "code",
   "execution_count": 29,
   "metadata": {},
   "outputs": [
    {
     "data": {
      "text/plain": [
       "0    0.440945\n",
       "1    0.275591\n",
       "2    0.157480\n",
       "3    0.133858\n",
       "4    0.110236\n",
       "5    0.086614\n",
       "6    0.047244\n",
       "Name: Species, dtype: float64"
      ]
     },
     "execution_count": 29,
     "metadata": {},
     "output_type": "execute_result"
    }
   ],
   "source": [
    "# unique class probability calculation P(Y)\n",
    "def class_pdf():\n",
    "    class_prob = (Class/len(X_train))\n",
    "    return class_prob\n",
    "\n",
    "class_pdf() #7x1 rows represent probability of corresponding unique class with reference to whole data"
   ]
  },
  {
   "cell_type": "markdown",
   "metadata": {},
   "source": [
    "# **Probability Density Formula:**\n",
    "\n",
    "\n",
    "![WhatsApp Image 2021-11-28 at 3.09.32 PM.jpeg](data:image/jpeg;base64,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)\n",
    "\n",
    "# **Naive Bayes Formula:**\n",
    "![WhatsApp Image 2021-11-28 at 3.09.32 PM (1).jpeg](data:image/jpeg;base64,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)"
   ]
  },
  {
   "cell_type": "code",
   "execution_count": 30,
   "metadata": {},
   "outputs": [],
   "source": [
    "# Model creation using Probability Density Function with Training data\n",
    "def pdf(x):\n",
    "    prob = []\n",
    "    probability = []\n",
    "    for i in range(0,7):\n",
    "        pdf1 = np.exp((-1/2)*((x-Mean[i])**2/(sd[i])**2)) # 1x6,finding pdf\n",
    "        pdf2 = sd[i]*np.sqrt(2 * np.pi)\n",
    "        pdf = pdf1 / pdf2 # 1x6 each column represent probability of corresponding features with a particular unique class \n",
    "        result = 1\n",
    "        for j in pdf:\n",
    "            result *= j   # 1x1 multiply each feature probability \n",
    "        result *= class_pdf()[i]    # 1x1 represents the probability of particular data point for a particular unique class\n",
    "        prob.append(result)             # 1x7 each column represents probability of particular data point with corresponding unique class\n",
    "    total = np.sum(prob)                    # 1x1 sum of all the probabilities of the data points\n",
    "    probability=prob/total                      # 1x7 each column represent the final probability of that particular data point belonging to unique class \n",
    "        \n",
    "    return probability       "
   ]
  },
  {
   "cell_type": "code",
   "execution_count": 31,
   "metadata": {},
   "outputs": [],
   "source": [
    "X_test=np.delete(X_test,0,1)\n",
    "# Function for predicting\n",
    "def predict(X_test):\n",
    "    Prediction = []\n",
    "    for i in range(0,len(X_test)):\n",
    "        class_pred = np.argmax(pdf(X_test[i])) #1x1 max probability gives which class that data point finally belongs.\n",
    "        Prediction.append(class_pred) \n",
    "    return Prediction # X_test.shape[0]x1 final predicted unique class for the corresponding test data points"
   ]
  },
  {
   "cell_type": "code",
   "execution_count": 32,
   "metadata": {},
   "outputs": [
    {
     "name": "stdout",
     "output_type": "stream",
     "text": [
      "Training accuracy =  0.5905511811023622\n"
     ]
    },
    {
     "data": {
      "image/png": "[encoded data removed]",
      "text/plain": [
       "<Figure size 432x288 with 2 Axes>"
      ]
     },
     "metadata": {
      "needs_background": "light"
     },
     "output_type": "display_data"
    },
    {
     "name": "stdout",
     "output_type": "stream",
     "text": [
      "***********************************************************************************************************\n",
      "Testing accuracy =  0.65625\n",
      "Classification Report:\n",
      "               precision    recall  f1-score   support\n",
      "\n",
      "           0       0.22      0.67      0.33         3\n",
      "           1       1.00      0.91      0.95        11\n",
      "           2       1.00      0.10      0.18        10\n",
      "           3       0.67      1.00      0.80         2\n",
      "           4       1.00      1.00      1.00         5\n",
      "           5       1.00      1.00      1.00         1\n",
      "           6       0.00      0.00      0.00         0\n",
      "\n",
      "    accuracy                           0.66        32\n",
      "   macro avg       0.70      0.67      0.61        32\n",
      "weighted avg       0.91      0.66      0.65        32\n",
      "\n"
     ]
    },
    {
     "name": "stderr",
     "output_type": "stream",
     "text": [
      "C:\\Users\\ARUL GOUTHAM RAJU\\anaconda3\\lib\\site-packages\\sklearn\\metrics\\_classification.py:1221: UndefinedMetricWarning: Recall and F-score are ill-defined and being set to 0.0 in labels with no true samples. Use `zero_division` parameter to control this behavior.\n",
      "  _warn_prf(average, modifier, msg_start, len(result))\n"
     ]
    },
    {
     "data": {
      "image/png": "[encoded data removed]",
      "text/plain": [
       "<Figure size 432x288 with 2 Axes>"
      ]
     },
     "metadata": {
      "needs_background": "light"
     },
     "output_type": "display_data"
    }
   ],
   "source": [
    "# Train Accuracy\n",
    "x_train=X_train[:,1:] # removing the target column\n",
    "ytrain_pred = predict(x_train)\n",
    "print('Training accuracy = ',accuracy_score(ytrain_pred,y_train))\n",
    "cm = confusion_matrix(ytrain_pred,y_train)\n",
    "cm = pd.DataFrame(cm , index = ['0','1','2','3','4','5','6'] , columns = ['0','1','2','3','4','5','6'])\n",
    "sns.heatmap(cm,cmap= \"Blues\", linecolor = 'black' , linewidth = 1 , annot = True, fmt='')\n",
    "plt.show()\n",
    "\n",
    "print('***********************************************************************************************************') \n",
    "\n",
    "# Test Accuracy\n",
    "ytest_pred = predict(X_test)\n",
    "print('Testing accuracy = ',accuracy_score(ytest_pred,y_test))\n",
    "print('Classification Report:\\n',classification_report(ytest_pred,y_test))\n",
    "cm1 = confusion_matrix(ytest_pred,y_test)\n",
    "cm1 = pd.DataFrame(cm1 , index = ['0','1','2','3','4','5','6'] , columns = ['0','1','2','3','4','5','6'])\n",
    "sns.heatmap(cm1,cmap= \"Blues\", linecolor = 'black' , linewidth = 1 , annot = True, fmt='')\n",
    "plt.show()"
   ]
  },
  {
   "cell_type": "markdown",
   "metadata": {},
   "source": [
    "# \n",
    "# Comparing result with inbuilt function\n",
    "# "
   ]
  },
  {
   "cell_type": "code",
   "execution_count": 33,
   "metadata": {},
   "outputs": [
    {
     "data": {
      "text/plain": [
       "array(['Roach', 'Smelt', 'Perch', 'Roach', 'Roach', 'Bream', 'Smelt',\n",
       "       'Roach', 'Roach', 'Pike', 'Bream', 'Bream', 'Bream', 'Parkki',\n",
       "       'Bream', 'Bream', 'Perch', 'Roach', 'Roach', 'Bream', 'Smelt',\n",
       "       'Bream', 'Bream', 'Bream', 'Bream', 'Perch', 'Roach', 'Roach',\n",
       "       'Smelt', 'Smelt', 'Pike', 'Roach'], dtype='<U9')"
      ]
     },
     "execution_count": 33,
     "metadata": {},
     "output_type": "execute_result"
    }
   ],
   "source": [
    "df1 = pd.read_csv('Data_Naive_Bayes.csv')\n",
    "y=df1['Species']\n",
    "X=df1.drop('Species',axis=1)\n",
    "#X = (X - np.min(X)) / (np.max(X) - np.min(X)).values\n",
    "from sklearn.model_selection import train_test_split\n",
    "X_train,X_test,y_train,y_test=train_test_split(X,y,  test_size=0.2, shuffle=True, random_state=42)\n",
    "from sklearn.naive_bayes import GaussianNB\n",
    "nb = GaussianNB()\n",
    "nb_model = nb.fit(X_train, y_train)\n",
    "y_pred = nb_model.predict(X_test)\n",
    "y_pred"
   ]
  },
  {
   "cell_type": "code",
   "execution_count": 34,
   "metadata": {},
   "outputs": [
    {
     "data": {
      "text/plain": [
       "0.65625"
      ]
     },
     "execution_count": 34,
     "metadata": {},
     "output_type": "execute_result"
    }
   ],
   "source": [
    "accuracy_score(y_test, y_pred)"
   ]
  }
 ],
 "metadata": {
  "kernelspec": {
   "display_name": "Python 3",
   "language": "python",
   "name": "python3"
  },
  "language_info": {
   "codemirror_mode": {
    "name": "ipython",
    "version": 3
   },
   "file_extension": ".py",
   "mimetype": "text/x-python",
   "name": "python",
   "nbconvert_exporter": "python",
   "pygments_lexer": "ipython3",
   "version": "3.8.5"
  }
 },
 "nbformat": 4,
 "nbformat_minor": 4
}
